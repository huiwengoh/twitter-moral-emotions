{
  "nbformat": 4,
  "nbformat_minor": 0,
  "metadata": {
    "colab": {
      "name": "MoralEmotionsOnTwitter.ipynb",
      "provenance": [],
      "collapsed_sections": []
    },
    "kernelspec": {
      "name": "python3",
      "display_name": "Python 3"
    }
  },
  "cells": [
    {
      "cell_type": "markdown",
      "metadata": {
        "id": "nnJNET_6tKjq"
      },
      "source": [
        "# How Moral Emotions Spread Political Messages on Twitter (with Ease) \n",
        "\n",
        "Hi there! This is Yara's and Hui Wen's notebook for the research on moral emotional spread of tweets. It has four parts:\n",
        "\n",
        "1. Filtering and Cleaning Raw Data \n",
        "2. Matching and Counting Retweets\n",
        "3. Counting Moral-Emotional Words and Gunning Fog Index\n",
        "4. Negative Binomial Regression \n",
        "\n",
        "If you have any questions or concerns, please reach out to yara@nyu.edu or hwg222@nyu.edu. \n",
        "\n",
        "Enjoy! \n"
      ]
    },
    {
      "cell_type": "code",
      "metadata": {
        "colab": {
          "base_uri": "https://localhost:8080/"
        },
        "id": "N_PgYNwfv5LQ",
        "outputId": "f80f2b7c-eecb-4d00-fdea-78d4958b9136"
      },
      "source": [
        "!pip install syllables\n",
        "\n",
        "import nltk\n",
        "nltk.download('punkt')"
      ],
      "execution_count": 1,
      "outputs": [
        {
          "output_type": "stream",
          "text": [
            "Collecting syllables\n",
            "  Downloading https://files.pythonhosted.org/packages/16/d9/81a31f640ccf405fdfd0eae8eebfc2579b438804dbf34dc03cad3e76169a/syllables-0.1.0-py2.py3-none-any.whl\n",
            "Installing collected packages: syllables\n",
            "Successfully installed syllables-0.1.0\n",
            "[nltk_data] Downloading package punkt to /root/nltk_data...\n",
            "[nltk_data]   Unzipping tokenizers/punkt.zip.\n"
          ],
          "name": "stdout"
        },
        {
          "output_type": "execute_result",
          "data": {
            "text/plain": [
              "True"
            ]
          },
          "metadata": {
            "tags": []
          },
          "execution_count": 1
        }
      ]
    },
    {
      "cell_type": "code",
      "metadata": {
        "id": "-0JLQS8VtT9X",
        "colab": {
          "base_uri": "https://localhost:8080/"
        },
        "outputId": "2968f47c-a02e-4ba6-c48d-7a1706d9e67e"
      },
      "source": [
        "import math\n",
        "import pandas as pd\n",
        "import numpy as np\n",
        "import seaborn as sns\n",
        "import matplotlib.pyplot as plt\n",
        "import matplotlib.style as style\n",
        "style.use('ggplot')\n",
        "\n",
        "from tqdm import tqdm\n",
        "import re\n",
        "from nltk.stem import PorterStemmer\n",
        "from nltk.tokenize import word_tokenize \n",
        "import syllables\n",
        "import statsmodels.formula.api as smf \n",
        "import statsmodels.api as sm\n",
        "\n",
        "\n",
        "import warnings\n",
        "warnings.filterwarnings(\"ignore\")"
      ],
      "execution_count": 2,
      "outputs": [
        {
          "output_type": "stream",
          "text": [
            "/usr/local/lib/python3.7/dist-packages/statsmodels/tools/_testing.py:19: FutureWarning: pandas.util.testing is deprecated. Use the functions in the public API at pandas.testing instead.\n",
            "  import pandas.util.testing as tm\n"
          ],
          "name": "stderr"
        }
      ]
    },
    {
      "cell_type": "code",
      "metadata": {
        "colab": {
          "base_uri": "https://localhost:8080/"
        },
        "id": "MawPEqXpvyPG",
        "outputId": "029d3bdf-f000-4800-bfc4-f8670e34396c"
      },
      "source": [
        "from google.colab import drive\n",
        "drive.mount('/drive')"
      ],
      "execution_count": 3,
      "outputs": [
        {
          "output_type": "stream",
          "text": [
            "Mounted at /drive\n"
          ],
          "name": "stdout"
        }
      ]
    },
    {
      "cell_type": "markdown",
      "metadata": {
        "id": "_eQJHqTDteXE"
      },
      "source": [
        "## Part 1: Filtering and Cleaning Raw Data\n"
      ]
    },
    {
      "cell_type": "code",
      "metadata": {
        "id": "s9GdIFREtf6z"
      },
      "source": [
        "# df = pd.read_csv(\"G_raw.csv\",encoding='UTF-8')\n",
        "df = pd.read_csv('/drive/My Drive/NLP Project/Existing Data/Raw Data/G_raw.csv')"
      ],
      "execution_count": 4,
      "outputs": []
    },
    {
      "cell_type": "code",
      "metadata": {
        "id": "oS73xbeutl5x"
      },
      "source": [
        "gun_keywords = [\"guncontrol\",\"gunviolence\",\"endgunviolence\",\n",
        "                \"second amendment\",\"2nd amendment\", \"2A\", \"gunlaws\",\n",
        "                \"gunsense\",\"gunsafety\",\"gun culture\",\"gun murders\",\n",
        "                \"gun threat\",\"gun offenses\",\"gun crisis\",\"gun reform\",\n",
        "                \"gun owner\",\"gun owners\",\"gun ownership\",\"gun crime\",\"gun ban\",\"gun smuggling\",\n",
        "                \"gun confiscation\",\"gun rights\",\"gun deaths\",\"gun violence\",\"gun safety\",\n",
        "                \"gun laws\",\"gun control\"]"
      ],
      "execution_count": 5,
      "outputs": []
    },
    {
      "cell_type": "code",
      "metadata": {
        "id": "c0WWKZYDKlOy"
      },
      "source": [
        "def preproc_fileter(dataor, keywords):\n",
        "    #Effect coding and renaming columns\n",
        "    dataor[\"url\"] = np.where(dataor[\"contains.url\"] == True, 1, -1)\n",
        "    dataor[\"media\"] = np.where(dataor[\"contains.media\"] == True, 1, -1)\n",
        "    dataor[\"verified\"] = np.where(dataor[\"user.verified\"] == True, 1, -1)\n",
        "    dataor = dataor.drop([\"contains.url\",\"contains.media\",\"user.verified\"], 1)\n",
        "    dataor = dataor.rename(columns={\"timestamp\":\"time\", \"id_str\": \"twid\", \n",
        "                                    \"retweeted_status.id_str\":\"rtwid\", \"user.id_str\": \"userid\",\n",
        "                                    \"user.screen_name\":\"username\", \"user.location\": \"location\",\n",
        "                                    \"user.description\": \"description\", \"user.followers_count\": \"followers\"})\n",
        "\n",
        "    #Minor text Preprocessing\n",
        "    dataor[\"text\"] = [str(re.sub(r\"http\\S+\", \"\", text)) for text in dataor[\"text\"]]\n",
        "    dataor[\"text\"] = [str(re.sub(\"&amp;#8216;|&amp;#8211;|&amp;#8217;|&amp;#039;|&amp;#8230;\", \"\", text)) for text in dataor[\"text\"]]\n",
        "    dataor[\"text\"] = [str(re.sub(\"[\\u201C\\u201D\\u201E\\u201F\\u2033\\u2036\\u2018\\u2019\\u201A\\u201B\\u2032\\u2035]\", \"'\", text)) for text in dataor[\"text\"]]\n",
        "    dataor[\"text\"] = [str(re.sub(\"&amp;\", \"&\", text)) for text in dataor[\"text\"]]\n",
        "    dataor[\"text\"] = [str(re.sub(\"<f0><9f><94><ab>\", \"\", text)) for text in dataor[\"text\"]]\n",
        "    dataor[\"text\"] = [str(re.sub(\"#gunsens<e\", \"#gunsense\", text)) for text in dataor[\"text\"]]\n",
        "    text = dataor[\"text\"].copy() \n",
        "    text = [str(re.sub('[!.?$%\\(\\)‘’*+,-/:;<=>\\[\\\\]^_`{|}~]', \"\", doc.lower())) for doc in text]\n",
        "    \n",
        "    dataor[\"prepr_text\"] = text\n",
        "    \n",
        "    #Filtering by keywords\n",
        "    contains = dataor[\"prepr_text\"].str.contains(\"(\"+\"|\".join(keywords)+\")\", case=False, regex=True)\n",
        "    data = dataor.loc[contains]\n",
        "   \n",
        "    del dataor\n",
        "    \n",
        "    #Remove duplicate ids\n",
        "    data = data.drop_duplicates(subset=[\"twid\"])\n",
        "    \n",
        "    return data      "
      ],
      "execution_count": 6,
      "outputs": []
    },
    {
      "cell_type": "code",
      "metadata": {
        "id": "ufV4aHyrttSC"
      },
      "source": [
        "clean = preproc_fileter(df, gun_keywords)"
      ],
      "execution_count": 7,
      "outputs": []
    },
    {
      "cell_type": "code",
      "metadata": {
        "id": "seZo_IcUX0yW",
        "colab": {
          "base_uri": "https://localhost:8080/",
          "height": 569
        },
        "outputId": "6398bfce-f206-4984-d4b5-89d0a6774f4c"
      },
      "source": [
        "clean.head()"
      ],
      "execution_count": 8,
      "outputs": [
        {
          "output_type": "execute_result",
          "data": {
            "text/html": [
              "<div>\n",
              "<style scoped>\n",
              "    .dataframe tbody tr th:only-of-type {\n",
              "        vertical-align: middle;\n",
              "    }\n",
              "\n",
              "    .dataframe tbody tr th {\n",
              "        vertical-align: top;\n",
              "    }\n",
              "\n",
              "    .dataframe thead th {\n",
              "        text-align: right;\n",
              "    }\n",
              "</style>\n",
              "<table border=\"1\" class=\"dataframe\">\n",
              "  <thead>\n",
              "    <tr style=\"text-align: right;\">\n",
              "      <th></th>\n",
              "      <th>twid</th>\n",
              "      <th>time</th>\n",
              "      <th>rtwid</th>\n",
              "      <th>userid</th>\n",
              "      <th>username</th>\n",
              "      <th>location</th>\n",
              "      <th>description</th>\n",
              "      <th>text</th>\n",
              "      <th>followers</th>\n",
              "      <th>ideology</th>\n",
              "      <th>url</th>\n",
              "      <th>media</th>\n",
              "      <th>verified</th>\n",
              "      <th>prepr_text</th>\n",
              "    </tr>\n",
              "  </thead>\n",
              "  <tbody>\n",
              "    <tr>\n",
              "      <th>1</th>\n",
              "      <td>661664563377676288</td>\n",
              "      <td>2015-11-03 22:01:39</td>\n",
              "      <td>NaN</td>\n",
              "      <td>38122727</td>\n",
              "      <td>ROCKWITHBECK</td>\n",
              "      <td>Atlanta, Georgia</td>\n",
              "      <td>War Veteran who loves his country. Never forge...</td>\n",
              "      <td>BOYCOTT NOV 4 @ABC @CMAwards &amp;gt; THREAT TO AL...</td>\n",
              "      <td>20664</td>\n",
              "      <td>0.895322</td>\n",
              "      <td>1</td>\n",
              "      <td>-1</td>\n",
              "      <td>-1</td>\n",
              "      <td>boycott nov 4 @abc @cmawards &amp;gt threat to all...</td>\n",
              "    </tr>\n",
              "    <tr>\n",
              "      <th>2</th>\n",
              "      <td>661664567940874240</td>\n",
              "      <td>2015-11-03 22:01:40</td>\n",
              "      <td>6.616639e+17</td>\n",
              "      <td>379954624</td>\n",
              "      <td>BUSHADEMOCRAT</td>\n",
              "      <td>OREGON</td>\n",
              "      <td>Browns Fan / Reds Fan / Never voting for REPUB...</td>\n",
              "      <td>RT @AddInfoOrg: 'Responsible Gun Owner' Gives ...</td>\n",
              "      <td>1045</td>\n",
              "      <td>-0.462759</td>\n",
              "      <td>1</td>\n",
              "      <td>-1</td>\n",
              "      <td>-1</td>\n",
              "      <td>rt @addinfoorg 'responsible gun owner' gives 5...</td>\n",
              "    </tr>\n",
              "    <tr>\n",
              "      <th>4</th>\n",
              "      <td>661664601616969728</td>\n",
              "      <td>2015-11-03 22:01:48</td>\n",
              "      <td>6.615296e+17</td>\n",
              "      <td>15989428</td>\n",
              "      <td>LarryLigouri</td>\n",
              "      <td>San Francisco | Santa Rosa</td>\n",
              "      <td>Rabble-rouser. Proud #union organizer and memb...</td>\n",
              "      <td>RT @HillaryClinton: Watch our new ad—why Hilla...</td>\n",
              "      <td>326</td>\n",
              "      <td>-0.575658</td>\n",
              "      <td>1</td>\n",
              "      <td>-1</td>\n",
              "      <td>-1</td>\n",
              "      <td>rt @hillaryclinton watch our new ad—why hillar...</td>\n",
              "    </tr>\n",
              "    <tr>\n",
              "      <th>6</th>\n",
              "      <td>661664632856313856</td>\n",
              "      <td>2015-11-03 22:01:56</td>\n",
              "      <td>6.616549e+17</td>\n",
              "      <td>2252890903</td>\n",
              "      <td>alizinaty</td>\n",
              "      <td>tripoli international airport</td>\n",
              "      <td>&lt;U+0627&gt;&lt;U+0644&gt;&lt;U+0644&gt;&lt;U+0647&gt;&lt;U+0645&gt; &lt;U+06...</td>\n",
              "      <td>RT @HillaryforIA: Hillary on gun violence prev...</td>\n",
              "      <td>3579</td>\n",
              "      <td>-0.932990</td>\n",
              "      <td>-1</td>\n",
              "      <td>1</td>\n",
              "      <td>-1</td>\n",
              "      <td>rt @hillaryforia hillary on gun violence preve...</td>\n",
              "    </tr>\n",
              "    <tr>\n",
              "      <th>11</th>\n",
              "      <td>661664661981515776</td>\n",
              "      <td>2015-11-03 22:02:03</td>\n",
              "      <td>NaN</td>\n",
              "      <td>216705818</td>\n",
              "      <td>MCarsonMitchell</td>\n",
              "      <td>Florida State University</td>\n",
              "      <td>Intl affairs fanatic, environmentalist, and me...</td>\n",
              "      <td>Got some juicy stories - DCF neglect, GA gun s...</td>\n",
              "      <td>181</td>\n",
              "      <td>0.862439</td>\n",
              "      <td>-1</td>\n",
              "      <td>-1</td>\n",
              "      <td>-1</td>\n",
              "      <td>got some juicy stories  dcf neglect ga gun smu...</td>\n",
              "    </tr>\n",
              "  </tbody>\n",
              "</table>\n",
              "</div>"
            ],
            "text/plain": [
              "                  twid  ...                                         prepr_text\n",
              "1   661664563377676288  ...  boycott nov 4 @abc @cmawards &gt threat to all...\n",
              "2   661664567940874240  ...  rt @addinfoorg 'responsible gun owner' gives 5...\n",
              "4   661664601616969728  ...  rt @hillaryclinton watch our new ad—why hillar...\n",
              "6   661664632856313856  ...  rt @hillaryforia hillary on gun violence preve...\n",
              "11  661664661981515776  ...  got some juicy stories  dcf neglect ga gun smu...\n",
              "\n",
              "[5 rows x 14 columns]"
            ]
          },
          "metadata": {
            "tags": []
          },
          "execution_count": 8
        }
      ]
    },
    {
      "cell_type": "markdown",
      "metadata": {
        "id": "7EewFEjxtwTx"
      },
      "source": [
        "## Part 2: Matching and Counting Retweets"
      ]
    },
    {
      "cell_type": "code",
      "metadata": {
        "id": "Gw-gJdAVtzDM"
      },
      "source": [
        "def prepr_retweets(data):\n",
        "    #Split into retweets and originals-insample\n",
        "    RT = data.loc[data[\"rtwid\"].isnull() == False]\n",
        "    notRT = data.loc[data[\"rtwid\"].isnull() == True]\n",
        "    \n",
        "    RT[\"rtwid\"] = RT[\"rtwid\"].copy().astype(int)\n",
        "    \n",
        "    text = RT[\"prepr_text\"].copy()\n",
        "    text = [doc[3:] for doc in text]    # taking the text after 'rt'\n",
        "    RT[\"username\"] = [doc.split()[0][1:] for doc in text]   # obtaining the username of the original author \n",
        "    RT[\"prepr_text\"] = [\" \".join(doc.split()[1:]) for doc in text]\n",
        "    notRT[\"username\"] = [name.lower() for name in notRT[\"username\"]]\n",
        "    \n",
        "    return RT, notRT  "
      ],
      "execution_count": 9,
      "outputs": []
    },
    {
      "cell_type": "code",
      "metadata": {
        "id": "Zm8-ScuFt3rc"
      },
      "source": [
        "retweets, originals = prepr_retweets(clean)"
      ],
      "execution_count": 10,
      "outputs": []
    },
    {
      "cell_type": "code",
      "metadata": {
        "id": "uFhjFPeut443"
      },
      "source": [
        "def split_match(RT, notRT):\n",
        "    insam = set(RT[\"rtwid\"]).intersection(set(notRT[\"twid\"]))\n",
        "    notrt = set(notRT[\"twid\"]).difference(insam)\n",
        "    \n",
        "    #Count retweets per original (in or outsample)\n",
        "    rtcount = RT.groupby([\"rtwid\"]).agg({\"rtwid\": \"count\"})\n",
        "    rtcount.columns = [\"count\"]\n",
        "    \n",
        "    #Marking original tweets for retweets that are insample\n",
        "    rtcount[\"insample\"] = np.zeros(len(rtcount), dtype=bool)\n",
        "    for i in list(insam):\n",
        "        rtcount.loc[i,\"insample\"] = True\n",
        "\n",
        "    rtcount[\"rtwid\"] = rtcount.index \n",
        "    rtcountout = pd.DataFrame({'count': 0, 'rtwid': list(notrt), \"insample\": True})\n",
        "    \n",
        "    rt = rtcount.append(rtcountout, ignore_index=True)\n",
        "    \n",
        "    #Appending and combining a bunch of stuff correctly\n",
        "    rtin = rt.loc[rt[\"insample\"] == True]\n",
        "    rtin = rtin.set_index(\"rtwid\")\n",
        "    notRT = notRT.set_index(\"twid\")\n",
        "    new = notRT.join(rtin)\n",
        "    \n",
        "    rtout = rt.loc[rt[\"insample\"] == False]\n",
        "    rtout = rtout.set_index(\"rtwid\")\n",
        "    RTdrop = RT.drop_duplicates(subset=[\"rtwid\"])\n",
        "    RTdrop = RTdrop.set_index(\"rtwid\")\n",
        "    RTdrop = RTdrop.loc[rtout.index]\n",
        "    RTdrop = RTdrop.join(rtout)\n",
        "    \n",
        "    final = new.append(RTdrop)\n",
        "    final = final.drop([\"twid\",\"rtwid\"],axis=1)\n",
        "\n",
        "    return final"
      ],
      "execution_count": 11,
      "outputs": []
    },
    {
      "cell_type": "code",
      "metadata": {
        "id": "OFBbYtObuM1s"
      },
      "source": [
        "def accounting_for_dupes(data):\n",
        "    data[\"both\"] = data[\"username\"]+\" \"+data[\"prepr_text\"]\n",
        "    group = data.groupby([\"both\"]).agg({\"count\":\"sum\"})\n",
        "    drop = data.drop_duplicates(subset=\"both\")\n",
        "    dropindex = drop.set_index(\"both\")\n",
        "    dropdone = dropindex.drop(\"count\",1)\n",
        "    final = dropdone.join(group)\n",
        "    \n",
        "    return final"
      ],
      "execution_count": 12,
      "outputs": []
    },
    {
      "cell_type": "code",
      "metadata": {
        "id": "pq3isGqHuNpM"
      },
      "source": [
        "fullset = split_match(retweets, originals)"
      ],
      "execution_count": 13,
      "outputs": []
    },
    {
      "cell_type": "code",
      "metadata": {
        "id": "NQjX0b0CuPbE"
      },
      "source": [
        "ready = accounting_for_dupes(fullset)"
      ],
      "execution_count": 14,
      "outputs": []
    },
    {
      "cell_type": "code",
      "metadata": {
        "id": "0yeMS-eHu0OY"
      },
      "source": [
        "codef moreprep(data):\n",
        "    insample = data.loc[data[\"insample\"] == True]\n",
        "    outsample = data.loc[data[\"insample\"] == False]\n",
        "    \n",
        "    N = len(outsample)\n",
        "    outsample[\"followers\"] = np.mean(insample[\"followers\"].copy())*np.ones(N)\n",
        "    outsample[\"ideology\"] = np.mean(insample[\"ideology\"].copy())*np.ones(N)\n",
        "    \n",
        "    df = insample.append(outsample)\n",
        "    df = df.drop([\"time\",\"userid\", \"username\",\"location\", \"description\"],1)\n",
        "    \n",
        "    return df"
      ],
      "execution_count": 15,
      "outputs": []
    },
    {
      "cell_type": "code",
      "metadata": {
        "id": "fKpPOe7Gu4Pm"
      },
      "source": [
        "prepped = moreprep(ready)"
      ],
      "execution_count": 16,
      "outputs": []
    },
    {
      "cell_type": "code",
      "metadata": {
        "id": "l085V6HV0SFE",
        "colab": {
          "base_uri": "https://localhost:8080/",
          "height": 358
        },
        "outputId": "0daeb1f7-c54b-495f-c4b1-0ecd4b8edfe7"
      },
      "source": [
        "prepped.reset_index(inplace=True)\n",
        "prepped.head()"
      ],
      "execution_count": 17,
      "outputs": [
        {
          "output_type": "execute_result",
          "data": {
            "text/html": [
              "<div>\n",
              "<style scoped>\n",
              "    .dataframe tbody tr th:only-of-type {\n",
              "        vertical-align: middle;\n",
              "    }\n",
              "\n",
              "    .dataframe tbody tr th {\n",
              "        vertical-align: top;\n",
              "    }\n",
              "\n",
              "    .dataframe thead th {\n",
              "        text-align: right;\n",
              "    }\n",
              "</style>\n",
              "<table border=\"1\" class=\"dataframe\">\n",
              "  <thead>\n",
              "    <tr style=\"text-align: right;\">\n",
              "      <th></th>\n",
              "      <th>both</th>\n",
              "      <th>text</th>\n",
              "      <th>followers</th>\n",
              "      <th>ideology</th>\n",
              "      <th>url</th>\n",
              "      <th>media</th>\n",
              "      <th>verified</th>\n",
              "      <th>prepr_text</th>\n",
              "      <th>insample</th>\n",
              "      <th>count</th>\n",
              "    </tr>\n",
              "  </thead>\n",
              "  <tbody>\n",
              "    <tr>\n",
              "      <th>0</th>\n",
              "      <td>rockwithbeck boycott nov 4 @abc @cmawards &amp;gt ...</td>\n",
              "      <td>BOYCOTT NOV 4 @ABC @CMAwards &amp;gt; THREAT TO AL...</td>\n",
              "      <td>20664.0</td>\n",
              "      <td>0.895322</td>\n",
              "      <td>1</td>\n",
              "      <td>-1</td>\n",
              "      <td>-1</td>\n",
              "      <td>boycott nov 4 @abc @cmawards &amp;gt threat to all...</td>\n",
              "      <td>True</td>\n",
              "      <td>2</td>\n",
              "    </tr>\n",
              "    <tr>\n",
              "      <th>1</th>\n",
              "      <td>mcarsonmitchell got some juicy stories  dcf ne...</td>\n",
              "      <td>Got some juicy stories - DCF neglect, GA gun s...</td>\n",
              "      <td>181.0</td>\n",
              "      <td>0.862439</td>\n",
              "      <td>-1</td>\n",
              "      <td>-1</td>\n",
              "      <td>-1</td>\n",
              "      <td>got some juicy stories  dcf neglect ga gun smu...</td>\n",
              "      <td>True</td>\n",
              "      <td>0</td>\n",
              "    </tr>\n",
              "    <tr>\n",
              "      <th>2</th>\n",
              "      <td>alizinaty @hillaryforia @hillaryclinton hillar...</td>\n",
              "      <td>@HillaryforIA @HillaryClinton Hillary on gun v...</td>\n",
              "      <td>3579.0</td>\n",
              "      <td>-0.932990</td>\n",
              "      <td>-1</td>\n",
              "      <td>1</td>\n",
              "      <td>-1</td>\n",
              "      <td>@hillaryforia @hillaryclinton hillary on gun v...</td>\n",
              "      <td>True</td>\n",
              "      <td>0</td>\n",
              "    </tr>\n",
              "    <tr>\n",
              "      <th>3</th>\n",
              "      <td>nealfox this should end the argument about wha...</td>\n",
              "      <td>This should end the argument about what the 2n...</td>\n",
              "      <td>793.0</td>\n",
              "      <td>1.394052</td>\n",
              "      <td>1</td>\n",
              "      <td>-1</td>\n",
              "      <td>-1</td>\n",
              "      <td>this should end the argument about what the 2n...</td>\n",
              "      <td>True</td>\n",
              "      <td>0</td>\n",
              "    </tr>\n",
              "    <tr>\n",
              "      <th>4</th>\n",
              "      <td>kimmie99 @publiushuldah @randomhero30 that's t...</td>\n",
              "      <td>@PubliusHuldah @RandomHero30 that's tattooed o...</td>\n",
              "      <td>6203.0</td>\n",
              "      <td>2.027604</td>\n",
              "      <td>-1</td>\n",
              "      <td>-1</td>\n",
              "      <td>-1</td>\n",
              "      <td>@publiushuldah @randomhero30 that's tattooed o...</td>\n",
              "      <td>True</td>\n",
              "      <td>0</td>\n",
              "    </tr>\n",
              "  </tbody>\n",
              "</table>\n",
              "</div>"
            ],
            "text/plain": [
              "                                                both  ... count\n",
              "0  rockwithbeck boycott nov 4 @abc @cmawards &gt ...  ...     2\n",
              "1  mcarsonmitchell got some juicy stories  dcf ne...  ...     0\n",
              "2  alizinaty @hillaryforia @hillaryclinton hillar...  ...     0\n",
              "3  nealfox this should end the argument about wha...  ...     0\n",
              "4  kimmie99 @publiushuldah @randomhero30 that's t...  ...     0\n",
              "\n",
              "[5 rows x 10 columns]"
            ]
          },
          "metadata": {
            "tags": []
          },
          "execution_count": 17
        }
      ]
    },
    {
      "cell_type": "markdown",
      "metadata": {
        "id": "NJwROEs4u-SP"
      },
      "source": [
        "## Part 3: Counting Moral-Emotional Words and Gunning Fog Index"
      ]
    },
    {
      "cell_type": "code",
      "metadata": {
        "id": "1oIXMakF9fQe"
      },
      "source": [
        "#Tokenize and stem the tweets\n",
        "def tokenize(corpus):\n",
        "    corpus = [str(re.sub(r\"@\\S+\", \"\", text.lower())) for text in corpus]\n",
        "    corpus = [str(re.sub(r\"#\", \"\", text)) for text in corpus]\n",
        "\n",
        "    ps = PorterStemmer()\n",
        "\n",
        "    for i in tqdm(range(len(corpus))):\n",
        "        corpus[i] = [ps.stem(j) for j in word_tokenize(corpus[i])if (j.isalnum() and not j.isnumeric())]\n",
        "\n",
        "    return corpus"
      ],
      "execution_count": 18,
      "outputs": []
    },
    {
      "cell_type": "code",
      "metadata": {
        "colab": {
          "base_uri": "https://localhost:8080/"
        },
        "id": "WfJ1NKha_0KL",
        "outputId": "d89fd294-2425-4e29-c3ca-efca6117f319"
      },
      "source": [
        "prepped['tokenized'] = tokenize(prepped['prepr_text'])"
      ],
      "execution_count": 19,
      "outputs": [
        {
          "output_type": "stream",
          "text": [
            "100%|██████████| 56858/56858 [00:24<00:00, 2341.64it/s]\n"
          ],
          "name": "stderr"
        }
      ]
    },
    {
      "cell_type": "code",
      "metadata": {
        "id": "KxWQqXEHaITY"
      },
      "source": [
        "#Moral emotional word dictionaries obtained from Brady et al.\n",
        "#Includes all moral emotional words, and also separated into positive/negative groups\n",
        "\n",
        "me_words = pd.read_csv('/drive/My Drive/NLP Project/Existing Data/Dictionaries/shared.txt', header=None)\n",
        "pos_words = pd.read_csv('/drive/My Drive/NLP Project/Existing Data/Dictionaries/shared_pos.txt', header=None)\n",
        "neg_words = pd.read_csv('/drive/My Drive/NLP Project/Existing Data/Dictionaries/shared_neg.txt', header=None)\n",
        "\n",
        "#me_words = pd.read_csv('shared.txt', header=None)\n",
        "#pos_words = pd.read_csv('shared_pos.txt', header=None)\n",
        "#neg_words = pd.read_csv('shared_neg.txt', header=None)"
      ],
      "execution_count": 20,
      "outputs": []
    },
    {
      "cell_type": "code",
      "metadata": {
        "id": "1OL8Ft7dnCGN"
      },
      "source": [
        "me_words = np.array(me_words).ravel()\n",
        "pos_words = np.array(pos_words).ravel()\n",
        "neg_words = np.array(neg_words).ravel()\n",
        "\n",
        "ps = PorterStemmer()\n",
        "        \n",
        "me_words = [ps.stem(me_words[i].strip('*')) for i in range(len(me_words))]    \n",
        "pos_words = [ps.stem(pos_words[i].strip('*')) for i in range(len(pos_words))] \n",
        "neg_words = [ps.stem(neg_words[i].strip('*')) for i in range(len(neg_words))] "
      ],
      "execution_count": 21,
      "outputs": []
    },
    {
      "cell_type": "code",
      "metadata": {
        "id": "WcuRO_trAmI7"
      },
      "source": [
        "def count_words(word_dict, tokenized_review):\n",
        "    word_count = 0\n",
        "    for token in tokenized_review:\n",
        "        if token in word_dict:\n",
        "            word_count += 1\n",
        "\n",
        "    return word_count"
      ],
      "execution_count": 22,
      "outputs": []
    },
    {
      "cell_type": "code",
      "metadata": {
        "id": "d4g2O82rZ9Id"
      },
      "source": [
        "prepped['total_words'] = [count_words(me_words, text) for text in prepped['tokenized']]\n",
        "prepped['pos_words'] = [count_words(pos_words, text) for text in prepped['tokenized']]\n",
        "prepped['neg_words'] = [count_words(neg_words, text) for text in prepped['tokenized']]"
      ],
      "execution_count": 23,
      "outputs": []
    },
    {
      "cell_type": "code",
      "metadata": {
        "colab": {
          "base_uri": "https://localhost:8080/",
          "height": 586
        },
        "id": "B9_PepgjBRtI",
        "outputId": "6554c1c1-6d5a-45e2-8d87-4a7a53dd3ab1"
      },
      "source": [
        "prepped.head()"
      ],
      "execution_count": 24,
      "outputs": [
        {
          "output_type": "execute_result",
          "data": {
            "text/html": [
              "<div>\n",
              "<style scoped>\n",
              "    .dataframe tbody tr th:only-of-type {\n",
              "        vertical-align: middle;\n",
              "    }\n",
              "\n",
              "    .dataframe tbody tr th {\n",
              "        vertical-align: top;\n",
              "    }\n",
              "\n",
              "    .dataframe thead th {\n",
              "        text-align: right;\n",
              "    }\n",
              "</style>\n",
              "<table border=\"1\" class=\"dataframe\">\n",
              "  <thead>\n",
              "    <tr style=\"text-align: right;\">\n",
              "      <th></th>\n",
              "      <th>both</th>\n",
              "      <th>text</th>\n",
              "      <th>followers</th>\n",
              "      <th>ideology</th>\n",
              "      <th>url</th>\n",
              "      <th>media</th>\n",
              "      <th>verified</th>\n",
              "      <th>prepr_text</th>\n",
              "      <th>insample</th>\n",
              "      <th>count</th>\n",
              "      <th>tokenized</th>\n",
              "      <th>total_words</th>\n",
              "      <th>pos_words</th>\n",
              "      <th>neg_words</th>\n",
              "    </tr>\n",
              "  </thead>\n",
              "  <tbody>\n",
              "    <tr>\n",
              "      <th>0</th>\n",
              "      <td>rockwithbeck boycott nov 4 @abc @cmawards &amp;gt ...</td>\n",
              "      <td>BOYCOTT NOV 4 @ABC @CMAwards &amp;gt; THREAT TO AL...</td>\n",
              "      <td>20664.0</td>\n",
              "      <td>0.895322</td>\n",
              "      <td>1</td>\n",
              "      <td>-1</td>\n",
              "      <td>-1</td>\n",
              "      <td>boycott nov 4 @abc @cmawards &amp;gt threat to all...</td>\n",
              "      <td>True</td>\n",
              "      <td>2</td>\n",
              "      <td>[boycott, nov, gt, threat, to, all, gun, owner...</td>\n",
              "      <td>0</td>\n",
              "      <td>0</td>\n",
              "      <td>0</td>\n",
              "    </tr>\n",
              "    <tr>\n",
              "      <th>1</th>\n",
              "      <td>mcarsonmitchell got some juicy stories  dcf ne...</td>\n",
              "      <td>Got some juicy stories - DCF neglect, GA gun s...</td>\n",
              "      <td>181.0</td>\n",
              "      <td>0.862439</td>\n",
              "      <td>-1</td>\n",
              "      <td>-1</td>\n",
              "      <td>-1</td>\n",
              "      <td>got some juicy stories  dcf neglect ga gun smu...</td>\n",
              "      <td>True</td>\n",
              "      <td>0</td>\n",
              "      <td>[got, some, juici, stori, dcf, neglect, ga, gu...</td>\n",
              "      <td>0</td>\n",
              "      <td>0</td>\n",
              "      <td>0</td>\n",
              "    </tr>\n",
              "    <tr>\n",
              "      <th>2</th>\n",
              "      <td>alizinaty @hillaryforia @hillaryclinton hillar...</td>\n",
              "      <td>@HillaryforIA @HillaryClinton Hillary on gun v...</td>\n",
              "      <td>3579.0</td>\n",
              "      <td>-0.932990</td>\n",
              "      <td>-1</td>\n",
              "      <td>1</td>\n",
              "      <td>-1</td>\n",
              "      <td>@hillaryforia @hillaryclinton hillary on gun v...</td>\n",
              "      <td>True</td>\n",
              "      <td>0</td>\n",
              "      <td>[hillari, on, gun, violenc, prevent, i, will, ...</td>\n",
              "      <td>1</td>\n",
              "      <td>0</td>\n",
              "      <td>1</td>\n",
              "    </tr>\n",
              "    <tr>\n",
              "      <th>3</th>\n",
              "      <td>nealfox this should end the argument about wha...</td>\n",
              "      <td>This should end the argument about what the 2n...</td>\n",
              "      <td>793.0</td>\n",
              "      <td>1.394052</td>\n",
              "      <td>1</td>\n",
              "      <td>-1</td>\n",
              "      <td>-1</td>\n",
              "      <td>this should end the argument about what the 2n...</td>\n",
              "      <td>True</td>\n",
              "      <td>0</td>\n",
              "      <td>[thi, should, end, the, argument, about, what,...</td>\n",
              "      <td>0</td>\n",
              "      <td>0</td>\n",
              "      <td>0</td>\n",
              "    </tr>\n",
              "    <tr>\n",
              "      <th>4</th>\n",
              "      <td>kimmie99 @publiushuldah @randomhero30 that's t...</td>\n",
              "      <td>@PubliusHuldah @RandomHero30 that's tattooed o...</td>\n",
              "      <td>6203.0</td>\n",
              "      <td>2.027604</td>\n",
              "      <td>-1</td>\n",
              "      <td>-1</td>\n",
              "      <td>-1</td>\n",
              "      <td>@publiushuldah @randomhero30 that's tattooed o...</td>\n",
              "      <td>True</td>\n",
              "      <td>0</td>\n",
              "      <td>[that, tattoo, onto, my, leg, 2a, on, other, s...</td>\n",
              "      <td>0</td>\n",
              "      <td>0</td>\n",
              "      <td>0</td>\n",
              "    </tr>\n",
              "  </tbody>\n",
              "</table>\n",
              "</div>"
            ],
            "text/plain": [
              "                                                both  ... neg_words\n",
              "0  rockwithbeck boycott nov 4 @abc @cmawards &gt ...  ...         0\n",
              "1  mcarsonmitchell got some juicy stories  dcf ne...  ...         0\n",
              "2  alizinaty @hillaryforia @hillaryclinton hillar...  ...         1\n",
              "3  nealfox this should end the argument about wha...  ...         0\n",
              "4  kimmie99 @publiushuldah @randomhero30 that's t...  ...         0\n",
              "\n",
              "[5 rows x 14 columns]"
            ]
          },
          "metadata": {
            "tags": []
          },
          "execution_count": 24
        }
      ]
    },
    {
      "cell_type": "code",
      "metadata": {
        "id": "liVQVfTuvAmp"
      },
      "source": [
        "def fog(df):\n",
        "    new = []\n",
        "    for i in df.index:\n",
        "        text = df[\"text\"][i].lower()\n",
        "        sent = re.split(\"[.!?…]\", text)\n",
        "        text = str(re.sub(r\"@\\S+\", \"\", text))\n",
        "        text = str(re.sub(r\"#\\S+\", \"\", text))\n",
        "        text = str(re.sub('[!.?$%\\(\\)‘’*+,-/:;<=>\\[\\\\]^_`{|}~]', \"\", text))\n",
        "        tokens = text.split()\n",
        "        hard_words = [syllables.estimate(token) for token in tokens if syllables.estimate(token) > 2]\n",
        "        if len(tokens)*len(sent) != 0:\n",
        "            avgwordpersent = len(tokens)/len(sent)\n",
        "            percent = 100*len(hard_words)/len(tokens)\n",
        "            new.append(0.4*(avgwordpersent + percent))\n",
        "        else: \n",
        "            new.append(0)\n",
        "    return new"
      ],
      "execution_count": 25,
      "outputs": []
    },
    {
      "cell_type": "code",
      "metadata": {
        "id": "ArUPbX-NvG32"
      },
      "source": [
        "prepped[\"fog\"] = fog(prepped)"
      ],
      "execution_count": 26,
      "outputs": []
    },
    {
      "cell_type": "code",
      "metadata": {
        "colab": {
          "base_uri": "https://localhost:8080/",
          "height": 586
        },
        "id": "KiRbuSUiAFsy",
        "outputId": "7d67f45e-589f-4a13-ccf9-86168f58e769"
      },
      "source": [
        "prepped.head()"
      ],
      "execution_count": 27,
      "outputs": [
        {
          "output_type": "execute_result",
          "data": {
            "text/html": [
              "<div>\n",
              "<style scoped>\n",
              "    .dataframe tbody tr th:only-of-type {\n",
              "        vertical-align: middle;\n",
              "    }\n",
              "\n",
              "    .dataframe tbody tr th {\n",
              "        vertical-align: top;\n",
              "    }\n",
              "\n",
              "    .dataframe thead th {\n",
              "        text-align: right;\n",
              "    }\n",
              "</style>\n",
              "<table border=\"1\" class=\"dataframe\">\n",
              "  <thead>\n",
              "    <tr style=\"text-align: right;\">\n",
              "      <th></th>\n",
              "      <th>both</th>\n",
              "      <th>text</th>\n",
              "      <th>followers</th>\n",
              "      <th>ideology</th>\n",
              "      <th>url</th>\n",
              "      <th>media</th>\n",
              "      <th>verified</th>\n",
              "      <th>prepr_text</th>\n",
              "      <th>insample</th>\n",
              "      <th>count</th>\n",
              "      <th>tokenized</th>\n",
              "      <th>total_words</th>\n",
              "      <th>pos_words</th>\n",
              "      <th>neg_words</th>\n",
              "      <th>fog</th>\n",
              "    </tr>\n",
              "  </thead>\n",
              "  <tbody>\n",
              "    <tr>\n",
              "      <th>0</th>\n",
              "      <td>rockwithbeck boycott nov 4 @abc @cmawards &amp;gt ...</td>\n",
              "      <td>BOYCOTT NOV 4 @ABC @CMAwards &amp;gt; THREAT TO AL...</td>\n",
              "      <td>20664.0</td>\n",
              "      <td>0.895322</td>\n",
              "      <td>1</td>\n",
              "      <td>-1</td>\n",
              "      <td>-1</td>\n",
              "      <td>boycott nov 4 @abc @cmawards &amp;gt threat to all...</td>\n",
              "      <td>True</td>\n",
              "      <td>2</td>\n",
              "      <td>[boycott, nov, gt, threat, to, all, gun, owner...</td>\n",
              "      <td>0</td>\n",
              "      <td>0</td>\n",
              "      <td>0</td>\n",
              "      <td>5.752941</td>\n",
              "    </tr>\n",
              "    <tr>\n",
              "      <th>1</th>\n",
              "      <td>mcarsonmitchell got some juicy stories  dcf ne...</td>\n",
              "      <td>Got some juicy stories - DCF neglect, GA gun s...</td>\n",
              "      <td>181.0</td>\n",
              "      <td>0.862439</td>\n",
              "      <td>-1</td>\n",
              "      <td>-1</td>\n",
              "      <td>-1</td>\n",
              "      <td>got some juicy stories  dcf neglect ga gun smu...</td>\n",
              "      <td>True</td>\n",
              "      <td>0</td>\n",
              "      <td>[got, some, juici, stori, dcf, neglect, ga, gu...</td>\n",
              "      <td>0</td>\n",
              "      <td>0</td>\n",
              "      <td>0</td>\n",
              "      <td>6.743860</td>\n",
              "    </tr>\n",
              "    <tr>\n",
              "      <th>2</th>\n",
              "      <td>alizinaty @hillaryforia @hillaryclinton hillar...</td>\n",
              "      <td>@HillaryforIA @HillaryClinton Hillary on gun v...</td>\n",
              "      <td>3579.0</td>\n",
              "      <td>-0.932990</td>\n",
              "      <td>-1</td>\n",
              "      <td>1</td>\n",
              "      <td>-1</td>\n",
              "      <td>@hillaryforia @hillaryclinton hillary on gun v...</td>\n",
              "      <td>True</td>\n",
              "      <td>0</td>\n",
              "      <td>[hillari, on, gun, violenc, prevent, i, will, ...</td>\n",
              "      <td>1</td>\n",
              "      <td>0</td>\n",
              "      <td>1</td>\n",
              "      <td>15.733333</td>\n",
              "    </tr>\n",
              "    <tr>\n",
              "      <th>3</th>\n",
              "      <td>nealfox this should end the argument about wha...</td>\n",
              "      <td>This should end the argument about what the 2n...</td>\n",
              "      <td>793.0</td>\n",
              "      <td>1.394052</td>\n",
              "      <td>1</td>\n",
              "      <td>-1</td>\n",
              "      <td>-1</td>\n",
              "      <td>this should end the argument about what the 2n...</td>\n",
              "      <td>True</td>\n",
              "      <td>0</td>\n",
              "      <td>[thi, should, end, the, argument, about, what,...</td>\n",
              "      <td>0</td>\n",
              "      <td>0</td>\n",
              "      <td>0</td>\n",
              "      <td>9.472727</td>\n",
              "    </tr>\n",
              "    <tr>\n",
              "      <th>4</th>\n",
              "      <td>kimmie99 @publiushuldah @randomhero30 that's t...</td>\n",
              "      <td>@PubliusHuldah @RandomHero30 that's tattooed o...</td>\n",
              "      <td>6203.0</td>\n",
              "      <td>2.027604</td>\n",
              "      <td>-1</td>\n",
              "      <td>-1</td>\n",
              "      <td>-1</td>\n",
              "      <td>@publiushuldah @randomhero30 that's tattooed o...</td>\n",
              "      <td>True</td>\n",
              "      <td>0</td>\n",
              "      <td>[that, tattoo, onto, my, leg, 2a, on, other, s...</td>\n",
              "      <td>0</td>\n",
              "      <td>0</td>\n",
              "      <td>0</td>\n",
              "      <td>8.036364</td>\n",
              "    </tr>\n",
              "  </tbody>\n",
              "</table>\n",
              "</div>"
            ],
            "text/plain": [
              "                                                both  ...        fog\n",
              "0  rockwithbeck boycott nov 4 @abc @cmawards &gt ...  ...   5.752941\n",
              "1  mcarsonmitchell got some juicy stories  dcf ne...  ...   6.743860\n",
              "2  alizinaty @hillaryforia @hillaryclinton hillar...  ...  15.733333\n",
              "3  nealfox this should end the argument about wha...  ...   9.472727\n",
              "4  kimmie99 @publiushuldah @randomhero30 that's t...  ...   8.036364\n",
              "\n",
              "[5 rows x 15 columns]"
            ]
          },
          "metadata": {
            "tags": []
          },
          "execution_count": 27
        }
      ]
    },
    {
      "cell_type": "markdown",
      "metadata": {
        "id": "y-I7GJiSYQml"
      },
      "source": [
        "Some scatter plots for vizualization before fitting the NB regression:"
      ]
    },
    {
      "cell_type": "code",
      "metadata": {
        "colab": {
          "base_uri": "https://localhost:8080/",
          "height": 328
        },
        "id": "IsLvOTsMVH5d",
        "outputId": "fbe13a32-9fdf-496d-ad44-89c471c723ee"
      },
      "source": [
        "plt.figure(dpi=80)\n",
        "plt.scatter(prepped['total_words'], prepped['count'], color='black')\n",
        "plt.xlabel('Total Word Count')\n",
        "plt.ylabel('RT Count')\n",
        "plt.title('Retweet Count vs Total Moral Emotional Word Count')\n",
        "plt.show()"
      ],
      "execution_count": 28,
      "outputs": [
        {
          "output_type": "display_data",
          "data": {
            "image/png": "[encoded data removed]",
            "text/plain": [
              "<Figure size 480x320 with 1 Axes>"
            ]
          },
          "metadata": {
            "tags": []
          }
        }
      ]
    },
    {
      "cell_type": "code",
      "metadata": {
        "colab": {
          "base_uri": "https://localhost:8080/",
          "height": 328
        },
        "id": "sYgsrot6Wqev",
        "outputId": "eb823cfb-f3bd-47ad-dffd-2b50e175cf10"
      },
      "source": [
        "plt.figure(dpi=80)\n",
        "plt.scatter(prepped['pos_words'], prepped['count'], color='green')\n",
        "plt.xticks([0, 1, 2, 3, 4])\n",
        "plt.xlabel('Positive Word Count')\n",
        "plt.ylabel('RT Count')\n",
        "plt.title('Retweet Count vs Positive Moral Emotional Word Count')\n",
        "plt.show()"
      ],
      "execution_count": 29,
      "outputs": [
        {
          "output_type": "display_data",
          "data": {
            "image/png": "[encoded data removed]",
            "text/plain": [
              "<Figure size 480x320 with 1 Axes>"
            ]
          },
          "metadata": {
            "tags": []
          }
        }
      ]
    },
    {
      "cell_type": "code",
      "metadata": {
        "colab": {
          "base_uri": "https://localhost:8080/",
          "height": 328
        },
        "id": "zGLhHtI-WryF",
        "outputId": "2fb08bea-ee19-4b07-bd63-2ad0bd6666e6"
      },
      "source": [
        "plt.figure(dpi=80)\n",
        "plt.scatter(prepped['neg_words'], prepped['count'], color='red')\n",
        "plt.xlabel('Negative Word Count')\n",
        "plt.ylabel('RT Count')\n",
        "plt.title('Retweet Count vs Negative Moral Emotional Word Count')\n",
        "plt.show()"
      ],
      "execution_count": 30,
      "outputs": [
        {
          "output_type": "display_data",
          "data": {
            "image/png": "[encoded data removed]",
            "text/plain": [
              "<Figure size 480x320 with 1 Axes>"
            ]
          },
          "metadata": {
            "tags": []
          }
        }
      ]
    },
    {
      "cell_type": "code",
      "metadata": {
        "colab": {
          "base_uri": "https://localhost:8080/",
          "height": 328
        },
        "id": "FtAOsSATW8dP",
        "outputId": "0c6f30f0-d05a-44d0-be80-631f03f1d4e6"
      },
      "source": [
        "plt.figure(dpi=80)\n",
        "plt.scatter(prepped['fog'], prepped['count'], color='blue')\n",
        "plt.xlabel('Gunning Fog Index')\n",
        "plt.ylabel('RT Count')\n",
        "plt.title('Retweet Count vs Gunning Fog Index')\n",
        "plt.show()"
      ],
      "execution_count": 31,
      "outputs": [
        {
          "output_type": "display_data",
          "data": {
            "image/png": "[encoded data removed]",
            "text/plain": [
              "<Figure size 480x320 with 1 Axes>"
            ]
          },
          "metadata": {
            "tags": []
          }
        }
      ]
    },
    {
      "cell_type": "markdown",
      "metadata": {
        "id": "FCv6-LEyvcwN"
      },
      "source": [
        "## Part 4: Negative Binomial Regression"
      ]
    },
    {
      "cell_type": "code",
      "metadata": {
        "colab": {
          "base_uri": "https://localhost:8080/"
        },
        "id": "lWMtdNvqNlW5",
        "outputId": "313fd7a2-b598-4c81-efb8-0a7fd3f44d5a"
      },
      "source": [
        "prepped.columns"
      ],
      "execution_count": 32,
      "outputs": [
        {
          "output_type": "execute_result",
          "data": {
            "text/plain": [
              "Index(['both', 'text', 'followers', 'ideology', 'url', 'media', 'verified',\n",
              "       'prepr_text', 'insample', 'count', 'tokenized', 'total_words',\n",
              "       'pos_words', 'neg_words', 'fog'],\n",
              "      dtype='object')"
            ]
          },
          "metadata": {
            "tags": []
          },
          "execution_count": 32
        }
      ]
    },
    {
      "cell_type": "code",
      "metadata": {
        "id": "cD_imzik0vvL"
      },
      "source": [
        "total_words = \"count ~ total_words\"\n",
        "pos_words = \"count ~ pos_words\"\n",
        "neg_words = \"count ~ neg_words\"\n",
        "\n",
        "fog = \"count ~ fog\"\n",
        "\n",
        "everything = \"count ~ followers + url + media + total_words + fog\""
      ],
      "execution_count": 33,
      "outputs": []
    },
    {
      "cell_type": "code",
      "metadata": {
        "id": "y5l9_jBwvbvF"
      },
      "source": [
        "def fit_nb(df, expression):\n",
        "    model = smf.glm(formula = expression, data=df, family=sm.families.NegativeBinomial()).fit()\n",
        "    return model"
      ],
      "execution_count": 34,
      "outputs": []
    },
    {
      "cell_type": "code",
      "metadata": {
        "colab": {
          "base_uri": "https://localhost:8080/",
          "height": 287
        },
        "id": "01jdQvAqT2Sh",
        "outputId": "32a9fa6b-beca-47c1-dcb1-5e028f9826df"
      },
      "source": [
        "total_words_model = fit_nb(prepped, total_words)\n",
        "total_words_model.summary()"
      ],
      "execution_count": 35,
      "outputs": [
        {
          "output_type": "execute_result",
          "data": {
            "text/html": [
              "<table class=\"simpletable\">\n",
              "<caption>Generalized Linear Model Regression Results</caption>\n",
              "<tr>\n",
              "  <th>Dep. Variable:</th>         <td>count</td>      <th>  No. Observations:  </th>   <td> 56858</td>  \n",
              "</tr>\n",
              "<tr>\n",
              "  <th>Model:</th>                  <td>GLM</td>       <th>  Df Residuals:      </th>   <td> 56856</td>  \n",
              "</tr>\n",
              "<tr>\n",
              "  <th>Model Family:</th>    <td>NegativeBinomial</td> <th>  Df Model:          </th>   <td>     1</td>  \n",
              "</tr>\n",
              "<tr>\n",
              "  <th>Link Function:</th>          <td>log</td>       <th>  Scale:             </th>  <td>  1.0000</td> \n",
              "</tr>\n",
              "<tr>\n",
              "  <th>Method:</th>                <td>IRLS</td>       <th>  Log-Likelihood:    </th>  <td> -95408.</td> \n",
              "</tr>\n",
              "<tr>\n",
              "  <th>Date:</th>            <td>Thu, 18 Mar 2021</td> <th>  Deviance:          </th> <td>1.1570e+05</td>\n",
              "</tr>\n",
              "<tr>\n",
              "  <th>Time:</th>                <td>21:38:29</td>     <th>  Pearson chi2:      </th>  <td>1.21e+06</td> \n",
              "</tr>\n",
              "<tr>\n",
              "  <th>No. Iterations:</th>         <td>10</td>        <th>                     </th>      <td> </td>    \n",
              "</tr>\n",
              "<tr>\n",
              "  <th>Covariance Type:</th>     <td>nonrobust</td>    <th>                     </th>      <td> </td>    \n",
              "</tr>\n",
              "</table>\n",
              "<table class=\"simpletable\">\n",
              "<tr>\n",
              "       <td></td>          <th>coef</th>     <th>std err</th>      <th>z</th>      <th>P>|z|</th>  <th>[0.025</th>    <th>0.975]</th>  \n",
              "</tr>\n",
              "<tr>\n",
              "  <th>Intercept</th>   <td>    0.3517</td> <td>    0.006</td> <td>   60.137</td> <td> 0.000</td> <td>    0.340</td> <td>    0.363</td>\n",
              "</tr>\n",
              "<tr>\n",
              "  <th>total_words</th> <td>    0.2889</td> <td>    0.012</td> <td>   23.763</td> <td> 0.000</td> <td>    0.265</td> <td>    0.313</td>\n",
              "</tr>\n",
              "</table>"
            ],
            "text/plain": [
              "<class 'statsmodels.iolib.summary.Summary'>\n",
              "\"\"\"\n",
              "                 Generalized Linear Model Regression Results                  \n",
              "==============================================================================\n",
              "Dep. Variable:                  count   No. Observations:                56858\n",
              "Model:                            GLM   Df Residuals:                    56856\n",
              "Model Family:        NegativeBinomial   Df Model:                            1\n",
              "Link Function:                    log   Scale:                          1.0000\n",
              "Method:                          IRLS   Log-Likelihood:                -95408.\n",
              "Date:                Thu, 18 Mar 2021   Deviance:                   1.1570e+05\n",
              "Time:                        21:38:29   Pearson chi2:                 1.21e+06\n",
              "No. Iterations:                    10                                         \n",
              "Covariance Type:            nonrobust                                         \n",
              "===============================================================================\n",
              "                  coef    std err          z      P>|z|      [0.025      0.975]\n",
              "-------------------------------------------------------------------------------\n",
              "Intercept       0.3517      0.006     60.137      0.000       0.340       0.363\n",
              "total_words     0.2889      0.012     23.763      0.000       0.265       0.313\n",
              "===============================================================================\n",
              "\"\"\""
            ]
          },
          "metadata": {
            "tags": []
          },
          "execution_count": 35
        }
      ]
    },
    {
      "cell_type": "code",
      "metadata": {
        "colab": {
          "base_uri": "https://localhost:8080/",
          "height": 287
        },
        "id": "TOcOYuc7T6mV",
        "outputId": "5aa97777-8367-4fa0-c9b1-44bbb101a2cf"
      },
      "source": [
        "pos_words_model = fit_nb(prepped, pos_words)\n",
        "pos_words_model.summary()"
      ],
      "execution_count": 36,
      "outputs": [
        {
          "output_type": "execute_result",
          "data": {
            "text/html": [
              "<table class=\"simpletable\">\n",
              "<caption>Generalized Linear Model Regression Results</caption>\n",
              "<tr>\n",
              "  <th>Dep. Variable:</th>         <td>count</td>      <th>  No. Observations:  </th>   <td> 56858</td>  \n",
              "</tr>\n",
              "<tr>\n",
              "  <th>Model:</th>                  <td>GLM</td>       <th>  Df Residuals:      </th>   <td> 56856</td>  \n",
              "</tr>\n",
              "<tr>\n",
              "  <th>Model Family:</th>    <td>NegativeBinomial</td> <th>  Df Model:          </th>   <td>     1</td>  \n",
              "</tr>\n",
              "<tr>\n",
              "  <th>Link Function:</th>          <td>log</td>       <th>  Scale:             </th>  <td>  1.0000</td> \n",
              "</tr>\n",
              "<tr>\n",
              "  <th>Method:</th>                <td>IRLS</td>       <th>  Log-Likelihood:    </th>  <td> -95732.</td> \n",
              "</tr>\n",
              "<tr>\n",
              "  <th>Date:</th>            <td>Thu, 18 Mar 2021</td> <th>  Deviance:          </th> <td>1.1635e+05</td>\n",
              "</tr>\n",
              "<tr>\n",
              "  <th>Time:</th>                <td>21:38:29</td>     <th>  Pearson chi2:      </th>  <td>1.66e+06</td> \n",
              "</tr>\n",
              "<tr>\n",
              "  <th>No. Iterations:</th>          <td>7</td>        <th>                     </th>      <td> </td>    \n",
              "</tr>\n",
              "<tr>\n",
              "  <th>Covariance Type:</th>     <td>nonrobust</td>    <th>                     </th>      <td> </td>    \n",
              "</tr>\n",
              "</table>\n",
              "<table class=\"simpletable\">\n",
              "<tr>\n",
              "      <td></td>         <th>coef</th>     <th>std err</th>      <th>z</th>      <th>P>|z|</th>  <th>[0.025</th>    <th>0.975]</th>  \n",
              "</tr>\n",
              "<tr>\n",
              "  <th>Intercept</th> <td>    0.4086</td> <td>    0.006</td> <td>   73.980</td> <td> 0.000</td> <td>    0.398</td> <td>    0.419</td>\n",
              "</tr>\n",
              "<tr>\n",
              "  <th>pos_words</th> <td>   -0.0371</td> <td>    0.025</td> <td>   -1.458</td> <td> 0.145</td> <td>   -0.087</td> <td>    0.013</td>\n",
              "</tr>\n",
              "</table>"
            ],
            "text/plain": [
              "<class 'statsmodels.iolib.summary.Summary'>\n",
              "\"\"\"\n",
              "                 Generalized Linear Model Regression Results                  \n",
              "==============================================================================\n",
              "Dep. Variable:                  count   No. Observations:                56858\n",
              "Model:                            GLM   Df Residuals:                    56856\n",
              "Model Family:        NegativeBinomial   Df Model:                            1\n",
              "Link Function:                    log   Scale:                          1.0000\n",
              "Method:                          IRLS   Log-Likelihood:                -95732.\n",
              "Date:                Thu, 18 Mar 2021   Deviance:                   1.1635e+05\n",
              "Time:                        21:38:29   Pearson chi2:                 1.66e+06\n",
              "No. Iterations:                     7                                         \n",
              "Covariance Type:            nonrobust                                         \n",
              "==============================================================================\n",
              "                 coef    std err          z      P>|z|      [0.025      0.975]\n",
              "------------------------------------------------------------------------------\n",
              "Intercept      0.4086      0.006     73.980      0.000       0.398       0.419\n",
              "pos_words     -0.0371      0.025     -1.458      0.145      -0.087       0.013\n",
              "==============================================================================\n",
              "\"\"\""
            ]
          },
          "metadata": {
            "tags": []
          },
          "execution_count": 36
        }
      ]
    },
    {
      "cell_type": "code",
      "metadata": {
        "colab": {
          "base_uri": "https://localhost:8080/",
          "height": 287
        },
        "id": "FDw-moskT6i0",
        "outputId": "6a427af8-2782-4370-dbe2-b54b5c628dd7"
      },
      "source": [
        "neg_words_model = fit_nb(prepped, neg_words)\n",
        "neg_words_model.summary()"
      ],
      "execution_count": 37,
      "outputs": [
        {
          "output_type": "execute_result",
          "data": {
            "text/html": [
              "<table class=\"simpletable\">\n",
              "<caption>Generalized Linear Model Regression Results</caption>\n",
              "<tr>\n",
              "  <th>Dep. Variable:</th>         <td>count</td>      <th>  No. Observations:  </th>   <td> 56858</td>  \n",
              "</tr>\n",
              "<tr>\n",
              "  <th>Model:</th>                  <td>GLM</td>       <th>  Df Residuals:      </th>   <td> 56856</td>  \n",
              "</tr>\n",
              "<tr>\n",
              "  <th>Model Family:</th>    <td>NegativeBinomial</td> <th>  Df Model:          </th>   <td>     1</td>  \n",
              "</tr>\n",
              "<tr>\n",
              "  <th>Link Function:</th>          <td>log</td>       <th>  Scale:             </th>  <td>  1.0000</td> \n",
              "</tr>\n",
              "<tr>\n",
              "  <th>Method:</th>                <td>IRLS</td>       <th>  Log-Likelihood:    </th>  <td> -95248.</td> \n",
              "</tr>\n",
              "<tr>\n",
              "  <th>Date:</th>            <td>Thu, 18 Mar 2021</td> <th>  Deviance:          </th> <td>1.1538e+05</td>\n",
              "</tr>\n",
              "<tr>\n",
              "  <th>Time:</th>                <td>21:38:29</td>     <th>  Pearson chi2:      </th>  <td>1.08e+06</td> \n",
              "</tr>\n",
              "<tr>\n",
              "  <th>No. Iterations:</th>         <td>12</td>        <th>                     </th>      <td> </td>    \n",
              "</tr>\n",
              "<tr>\n",
              "  <th>Covariance Type:</th>     <td>nonrobust</td>    <th>                     </th>      <td> </td>    \n",
              "</tr>\n",
              "</table>\n",
              "<table class=\"simpletable\">\n",
              "<tr>\n",
              "      <td></td>         <th>coef</th>     <th>std err</th>      <th>z</th>      <th>P>|z|</th>  <th>[0.025</th>    <th>0.975]</th>  \n",
              "</tr>\n",
              "<tr>\n",
              "  <th>Intercept</th> <td>    0.3550</td> <td>    0.006</td> <td>   62.500</td> <td> 0.000</td> <td>    0.344</td> <td>    0.366</td>\n",
              "</tr>\n",
              "<tr>\n",
              "  <th>neg_words</th> <td>    0.4410</td> <td>    0.016</td> <td>   27.333</td> <td> 0.000</td> <td>    0.409</td> <td>    0.473</td>\n",
              "</tr>\n",
              "</table>"
            ],
            "text/plain": [
              "<class 'statsmodels.iolib.summary.Summary'>\n",
              "\"\"\"\n",
              "                 Generalized Linear Model Regression Results                  \n",
              "==============================================================================\n",
              "Dep. Variable:                  count   No. Observations:                56858\n",
              "Model:                            GLM   Df Residuals:                    56856\n",
              "Model Family:        NegativeBinomial   Df Model:                            1\n",
              "Link Function:                    log   Scale:                          1.0000\n",
              "Method:                          IRLS   Log-Likelihood:                -95248.\n",
              "Date:                Thu, 18 Mar 2021   Deviance:                   1.1538e+05\n",
              "Time:                        21:38:29   Pearson chi2:                 1.08e+06\n",
              "No. Iterations:                    12                                         \n",
              "Covariance Type:            nonrobust                                         \n",
              "==============================================================================\n",
              "                 coef    std err          z      P>|z|      [0.025      0.975]\n",
              "------------------------------------------------------------------------------\n",
              "Intercept      0.3550      0.006     62.500      0.000       0.344       0.366\n",
              "neg_words      0.4410      0.016     27.333      0.000       0.409       0.473\n",
              "==============================================================================\n",
              "\"\"\""
            ]
          },
          "metadata": {
            "tags": []
          },
          "execution_count": 37
        }
      ]
    },
    {
      "cell_type": "code",
      "metadata": {
        "colab": {
          "base_uri": "https://localhost:8080/"
        },
        "id": "TnU9IlCCKysV",
        "outputId": "c53670bc-495e-407a-962d-c6152495d7a8"
      },
      "source": [
        "#Calculating the IRR (incidence rate ratio)\n",
        "total_IRR = math.exp(total_words_model.params[1])\n",
        "pos_IRR = math.exp(pos_words_model.params[1])\n",
        "neg_IRR = math.exp(neg_words_model.params[1])\n",
        "\n",
        "print(\"IRR for Total Moral-Emotional Word Count: {:.4f}\".format(total_IRR))\n",
        "print(\"IRR for Positive Moral-Emotional Word Count: {:.4f}\".format(pos_IRR))\n",
        "print(\"IRR for Negative Moral-Emotional Word Count: {:.4f}\".format(neg_IRR))"
      ],
      "execution_count": 38,
      "outputs": [
        {
          "output_type": "stream",
          "text": [
            "IRR for Total Moral-Emotional Word Count: 1.3349\n",
            "IRR for Positive Moral-Emotional Word Count: 0.9636\n",
            "IRR for Negative Moral-Emotional Word Count: 1.5543\n"
          ],
          "name": "stdout"
        }
      ]
    },
    {
      "cell_type": "code",
      "metadata": {
        "colab": {
          "base_uri": "https://localhost:8080/",
          "height": 328
        },
        "id": "XTYDSC0vJo5S",
        "outputId": "0e47aa84-5078-4f42-b594-18df458e45f4"
      },
      "source": [
        "total_preds = total_words_model.get_prediction(pd.DataFrame(np.arange(0, 10), columns=['total_words']))\n",
        "total_frame = total_preds.summary_frame(alpha=0.05)\n",
        "\n",
        "pos_preds = pos_words_model.get_prediction(pd.DataFrame(np.arange(0, 10), columns=['pos_words']))\n",
        "pos_frame = pos_preds.summary_frame(alpha=0.05)\n",
        "\n",
        "neg_preds = neg_words_model.get_prediction(pd.DataFrame(np.arange(0, 10), columns=['neg_words']))\n",
        "neg_frame = neg_preds.summary_frame(alpha=0.05)\n",
        "\n",
        "plt.figure(dpi=80)\n",
        "plt.plot(np.arange(0, 10), pos_frame['mean'], color='green')\n",
        "plt.plot(np.arange(0, 10), neg_frame['mean'], color='red')\n",
        "plt.plot(np.arange(0, 10), total_frame['mean'], color='blue')\n",
        "\n",
        "plt.fill_between(np.arange(0, 10), pos_frame['mean_ci_lower'], pos_frame['mean_ci_upper'], color='palegreen')\n",
        "plt.fill_between(np.arange(0, 10), neg_frame['mean_ci_lower'], neg_frame['mean_ci_upper'], color='lightpink')\n",
        "plt.fill_between(np.arange(0, 10), total_frame['mean_ci_lower'], total_frame['mean_ci_upper'], color='lightskyblue')\n",
        "\n",
        "plt.xlabel('Word Count')\n",
        "plt.ylabel('RT Count')\n",
        "plt.title('Retweet Count vs Moral Emotional Word Count')\n",
        "plt.legend(['Positive Words (IRR = {:.4f})'.format(pos_IRR), 'Negative Words {:.4f})'.format(neg_IRR), \n",
        "            'All Words (IRR = {:.4f})'.format(total_IRR)], loc='upper left', facecolor='white')\n",
        "plt.show()"
      ],
      "execution_count": 39,
      "outputs": [
        {
          "output_type": "display_data",
          "data": {
            "image/png": "[encoded data removed]",
            "text/plain": [
              "<Figure size 480x320 with 1 Axes>"
            ]
          },
          "metadata": {
            "tags": []
          }
        }
      ]
    },
    {
      "cell_type": "code",
      "metadata": {
        "colab": {
          "base_uri": "https://localhost:8080/",
          "height": 287
        },
        "id": "3v-t-w5oTyDs",
        "outputId": "377f56ee-9d3d-45cd-97b4-01cf82878dff"
      },
      "source": [
        "fog_model = fit_nb(prepped, fog)\n",
        "fog_model.summary()"
      ],
      "execution_count": 40,
      "outputs": [
        {
          "output_type": "execute_result",
          "data": {
            "text/html": [
              "<table class=\"simpletable\">\n",
              "<caption>Generalized Linear Model Regression Results</caption>\n",
              "<tr>\n",
              "  <th>Dep. Variable:</th>         <td>count</td>      <th>  No. Observations:  </th>   <td> 56858</td>  \n",
              "</tr>\n",
              "<tr>\n",
              "  <th>Model:</th>                  <td>GLM</td>       <th>  Df Residuals:      </th>   <td> 56856</td>  \n",
              "</tr>\n",
              "<tr>\n",
              "  <th>Model Family:</th>    <td>NegativeBinomial</td> <th>  Df Model:          </th>   <td>     1</td>  \n",
              "</tr>\n",
              "<tr>\n",
              "  <th>Link Function:</th>          <td>log</td>       <th>  Scale:             </th>  <td>  1.0000</td> \n",
              "</tr>\n",
              "<tr>\n",
              "  <th>Method:</th>                <td>IRLS</td>       <th>  Log-Likelihood:    </th>  <td> -95680.</td> \n",
              "</tr>\n",
              "<tr>\n",
              "  <th>Date:</th>            <td>Thu, 18 Mar 2021</td> <th>  Deviance:          </th> <td>1.1624e+05</td>\n",
              "</tr>\n",
              "<tr>\n",
              "  <th>Time:</th>                <td>21:38:30</td>     <th>  Pearson chi2:      </th>  <td>1.65e+06</td> \n",
              "</tr>\n",
              "<tr>\n",
              "  <th>No. Iterations:</th>          <td>7</td>        <th>                     </th>      <td> </td>    \n",
              "</tr>\n",
              "<tr>\n",
              "  <th>Covariance Type:</th>     <td>nonrobust</td>    <th>                     </th>      <td> </td>    \n",
              "</tr>\n",
              "</table>\n",
              "<table class=\"simpletable\">\n",
              "<tr>\n",
              "      <td></td>         <th>coef</th>     <th>std err</th>      <th>z</th>      <th>P>|z|</th>  <th>[0.025</th>    <th>0.975]</th>  \n",
              "</tr>\n",
              "<tr>\n",
              "  <th>Intercept</th> <td>    0.5003</td> <td>    0.011</td> <td>   46.990</td> <td> 0.000</td> <td>    0.479</td> <td>    0.521</td>\n",
              "</tr>\n",
              "<tr>\n",
              "  <th>fog</th>       <td>   -0.0100</td> <td>    0.001</td> <td>  -10.209</td> <td> 0.000</td> <td>   -0.012</td> <td>   -0.008</td>\n",
              "</tr>\n",
              "</table>"
            ],
            "text/plain": [
              "<class 'statsmodels.iolib.summary.Summary'>\n",
              "\"\"\"\n",
              "                 Generalized Linear Model Regression Results                  \n",
              "==============================================================================\n",
              "Dep. Variable:                  count   No. Observations:                56858\n",
              "Model:                            GLM   Df Residuals:                    56856\n",
              "Model Family:        NegativeBinomial   Df Model:                            1\n",
              "Link Function:                    log   Scale:                          1.0000\n",
              "Method:                          IRLS   Log-Likelihood:                -95680.\n",
              "Date:                Thu, 18 Mar 2021   Deviance:                   1.1624e+05\n",
              "Time:                        21:38:30   Pearson chi2:                 1.65e+06\n",
              "No. Iterations:                     7                                         \n",
              "Covariance Type:            nonrobust                                         \n",
              "==============================================================================\n",
              "                 coef    std err          z      P>|z|      [0.025      0.975]\n",
              "------------------------------------------------------------------------------\n",
              "Intercept      0.5003      0.011     46.990      0.000       0.479       0.521\n",
              "fog           -0.0100      0.001    -10.209      0.000      -0.012      -0.008\n",
              "==============================================================================\n",
              "\"\"\""
            ]
          },
          "metadata": {
            "tags": []
          },
          "execution_count": 40
        }
      ]
    },
    {
      "cell_type": "code",
      "metadata": {
        "colab": {
          "base_uri": "https://localhost:8080/"
        },
        "id": "oYQi6JyBLbWn",
        "outputId": "fd2e63de-1ee8-41e2-819c-65314b24d307"
      },
      "source": [
        "fog_IRR = math.exp(fog_model.params[1])\n",
        "\n",
        "print(\"IRR for Gunning Fog Index: {:.4f}\".format(fog_IRR))"
      ],
      "execution_count": 41,
      "outputs": [
        {
          "output_type": "stream",
          "text": [
            "IRR for Gunning Fog Index: 0.9901\n"
          ],
          "name": "stdout"
        }
      ]
    },
    {
      "cell_type": "code",
      "metadata": {
        "colab": {
          "base_uri": "https://localhost:8080/",
          "height": 328
        },
        "id": "6T3wxdIrRm-b",
        "outputId": "6bed6b45-3d44-443b-dc58-627905ce3bdb"
      },
      "source": [
        "fog_preds = fog_model.get_prediction(pd.DataFrame(np.arange(0, 40), columns=['fog']))\n",
        "fog_frame = fog_preds.summary_frame(alpha=0.05)\n",
        "\n",
        "plt.figure(dpi=80)\n",
        "plt.plot(np.arange(0, 40), fog_frame['mean'], color='navy')\n",
        "\n",
        "plt.fill_between(np.arange(0, 40), fog_frame['mean_ci_lower'], fog_frame['mean_ci_upper'], color='lightblue')\n",
        "\n",
        "plt.xlabel('Gunning Fog Index')\n",
        "plt.ylabel('RT Count')\n",
        "plt.title('Retweet Count vs Gunning Fog Index')\n",
        "plt.legend(['Gunning Fog Index (IRR = {:.4f})'.format(fog_IRR)], facecolor='white')\n",
        "plt.show()"
      ],
      "execution_count": 42,
      "outputs": [
        {
          "output_type": "display_data",
          "data": {
            "image/png": "[encoded data removed]",
            "text/plain": [
              "<Figure size 480x320 with 1 Axes>"
            ]
          },
          "metadata": {
            "tags": []
          }
        }
      ]
    }
  ]
}